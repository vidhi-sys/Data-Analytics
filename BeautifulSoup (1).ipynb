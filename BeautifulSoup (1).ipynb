{
 "cells": [
  {
   "cell_type": "code",
   "execution_count": 3,
   "id": "765aea85-53fa-4cf7-8465-1dcd83a8b7fc",
   "metadata": {},
   "outputs": [],
   "source": [
    "import requests\n",
    "from bs4 import BeautifulSoup"
   ]
  },
  {
   "cell_type": "code",
   "execution_count": 5,
   "id": "10e8fbb3-9070-481d-b78a-b5bb627a6a47",
   "metadata": {},
   "outputs": [],
   "source": [
    "result=requests.get(\"https://www.google.com/\")"
   ]
  },
  {
   "cell_type": "code",
   "execution_count": 7,
   "id": "0b322feb-3dad-4b46-8fab-86eaf2b562ee",
   "metadata": {},
   "outputs": [
    {
     "name": "stdout",
     "output_type": "stream",
     "text": [
      "200\n"
     ]
    }
   ],
   "source": [
    "print(result.status_code)"
   ]
  },
  {
   "cell_type": "code",
   "execution_count": 8,
   "id": "1c5a16e1-95f5-4230-826f-4234e1f77a03",
   "metadata": {},
   "outputs": [
    {
     "name": "stdout",
     "output_type": "stream",
     "text": [
      "{'Date': 'Thu, 31 Jul 2025 09:46:57 GMT', 'Expires': '-1', 'Cache-Control': 'private, max-age=0', 'Content-Type': 'text/html; charset=ISO-8859-1', 'Content-Security-Policy-Report-Only': \"object-src 'none';base-uri 'self';script-src 'nonce-Un_Iw_4hgC0GiGTI10DnsQ' 'strict-dynamic' 'report-sample' 'unsafe-eval' 'unsafe-inline' https: http:;report-uri https://csp.withgoogle.com/csp/gws/other-hp\", 'Accept-CH': 'Sec-CH-Prefers-Color-Scheme', 'P3P': 'CP=\"This is not a P3P policy! See g.co/p3phelp for more info.\"', 'Content-Encoding': 'gzip', 'Server': 'gws', 'X-XSS-Protection': '0', 'X-Frame-Options': 'SAMEORIGIN', 'Set-Cookie': 'AEC=AVh_V2ju06TNOV6RI3BJmAMl1y0PGP31FvNGTkyd_CG7yXJx7g3qHTgxtg; expires=Tue, 27-Jan-2026 09:46:57 GMT; path=/; domain=.google.com; Secure; HttpOnly; SameSite=lax, NID=525=pYVKtp7Vwgx6mJ-ul7ji2EM5UCar8b6yFS6YLrWqRDf-IDMpa1xVLHV52Sl4toNDLUyOc5gt35HIvT6zsN51_z1PMoSaWv0QyutxOwUj0obu7Prhane1capVkMnEPITkn2d0CA8LXW_nuUDs7FlT6ijmzk51idID0gofF-jF6pT0_PlCgvEY00BFYjMn__alBj1-4cvzDkiQuBQk6Ro; expires=Fri, 30-Jan-2026 09:46:57 GMT; path=/; domain=.google.com; HttpOnly', 'Alt-Svc': 'h3=\":443\"; ma=2592000,h3-29=\":443\"; ma=2592000', 'Transfer-Encoding': 'chunked'}\n"
     ]
    }
   ],
   "source": [
    "print(result.headers)"
   ]
  },
  {
   "cell_type": "markdown",
   "id": "313546f1-acc6-453f-b929-d7481bb714b1",
   "metadata": {},
   "source": [
    "EXTRACTING THE SOURCE CONTENT"
   ]
  },
  {
   "cell_type": "code",
   "execution_count": 9,
   "id": "c0cedd92-72d8-4010-8804-3866e9cd2fa2",
   "metadata": {},
   "outputs": [],
   "source": [
    "src=result.content"
   ]
  },
  {
   "cell_type": "markdown",
   "id": "a5d93ba2-aba6-412c-804a-04fe7c5e4d95",
   "metadata": {},
   "source": [
    " LINKS WITH MAPS  IN GOOGLE"
   ]
  },
  {
   "cell_type": "code",
   "execution_count": 13,
   "id": "d4462017-fe2b-4c3d-95ca-2b34438fe07f",
   "metadata": {},
   "outputs": [
    {
     "name": "stdout",
     "output_type": "stream",
     "text": [
      "<a class=\"gb1\" href=\"https://maps.google.co.in/maps?hl=en&amp;tab=wl\">Maps</a>\n"
     ]
    }
   ],
   "source": [
    "#creating a soup object\n",
    "soup=BeautifulSoup(src,'lxml')\n",
    "links=soup.find_all(\"a\") #FINDING ALL THE A TAGS\n",
    "#print(links)\n",
    "#LOOKING FOR ALL OF THE LINKS CONTAINING MAPs TEXT\n",
    "for i in links:\n",
    "    if \"Maps\" in i.text:\n",
    "        print(i)"
   ]
  },
  {
   "cell_type": "code",
   "execution_count": null,
   "id": "9022a975-afa1-4d4a-852c-b14a8f2dd14c",
   "metadata": {},
   "outputs": [],
   "source": []
  }
 ],
 "metadata": {
  "kernelspec": {
   "display_name": "Python 3 (ipykernel)",
   "language": "python",
   "name": "python3"
  },
  "language_info": {
   "codemirror_mode": {
    "name": "ipython",
    "version": 3
   },
   "file_extension": ".py",
   "mimetype": "text/x-python",
   "name": "python",
   "nbconvert_exporter": "python",
   "pygments_lexer": "ipython3",
   "version": "3.13.5"
  }
 },
 "nbformat": 4,
 "nbformat_minor": 5
}
